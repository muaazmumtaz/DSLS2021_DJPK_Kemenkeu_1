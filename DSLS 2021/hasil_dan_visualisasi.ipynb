{
 "cells": [
  {
   "cell_type": "code",
   "execution_count": 1,
   "id": "9d5729fd-6494-471a-8d51-e04694c7c2a6",
   "metadata": {},
   "outputs": [],
   "source": [
    "import pandas as pd\n",
    "import numpy as np\n",
    "import matplotlib.pyplot as plt\n",
    "import seaborn as sns"
   ]
  },
  {
   "cell_type": "code",
   "execution_count": 2,
   "id": "0bcd6542-22b3-4fd6-8da7-b42ffc9207cd",
   "metadata": {},
   "outputs": [],
   "source": [
    "apbd_2019 = pd.read_excel('Data_APBD_2019.xlsx')\n",
    "apbd_2020 = pd.read_excel('Data_APBD_2020.xlsx')\n",
    "apbd_2021 = pd.read_excel('Data_APBD_2021.xlsx')\n",
    "realisasi_2019 = pd.read_excel('Data_Realisasi_2019.xlsx')\n",
    "realisasi_2020 = pd.read_excel('Data_Realisasi_2020.xlsx')"
   ]
  },
  {
   "cell_type": "markdown",
   "id": "74b2e07d-3407-4834-bf44-69a9e25e15da",
   "metadata": {},
   "source": [
    "### RESAPAN APBD DENGAN REALISASI"
   ]
  },
  {
   "cell_type": "code",
   "execution_count": 3,
   "id": "4ca9b638-b997-47ed-9a5e-0f842b7730fe",
   "metadata": {},
   "outputs": [],
   "source": [
    "total_apbd_2019 = apbd_2019['Nilai Anggaran'].sum()\n",
    "total_apbd_2020 = apbd_2020['Nilai Anggaran'].sum()\n",
    "total_apbd_2021 = apbd_2021['Nilai Anggaran'].sum()\n",
    "total_realisasi_2019 = realisasi_2019['Nilai Anggaran'].sum()\n",
    "total_realisasi_2020 = realisasi_2020['Nilai Anggaran'].sum()\n",
    "\n",
    "datas = {'Jenis Anggaran': ['APBD', 'APBD', 'APBD', 'Realisasi', 'Realisasi'],\n",
    "         'Tahun' : [2019, 2020, 2021, 2019, 2020],\n",
    "         'Nilai Anggaran': [total_apbd_2019, total_apbd_2020, total_apbd_2021,\n",
    "                            total_realisasi_2019, total_realisasi_2020]}\n",
    "df_total = pd.DataFrame(datas)"
   ]
  },
  {
   "cell_type": "code",
   "execution_count": 56,
   "id": "a5aba2e6-2783-4799-8803-a87a1b6f5bc7",
   "metadata": {},
   "outputs": [
    {
     "name": "stdout",
     "output_type": "stream",
     "text": [
      "Resapan 2019 = 0.9841288196811045\n",
      "Resapan 2020 = 0.9160667214385995\n"
     ]
    }
   ],
   "source": [
    "resapan_2019 = total_realisasi_2019/total_apbd_2019\n",
    "resapan_2020 = total_realisasi_2020/total_apbd_2020\n",
    "print(f'Resapan 2019 = {resapan_2019}')\n",
    "print(f'Resapan 2020 = {resapan_2020}')"
   ]
  },
  {
   "cell_type": "code",
   "execution_count": 62,
   "id": "d67bd5c1-a27a-4782-8565-0fe925c3e6bc",
   "metadata": {},
   "outputs": [
    {
     "data": {
      "text/plain": [
       "2327062556919413.0"
      ]
     },
     "execution_count": 62,
     "metadata": {},
     "output_type": "execute_result"
    }
   ],
   "source": [
    "total_apbd_2019"
   ]
  },
  {
   "cell_type": "code",
   "execution_count": 63,
   "id": "8c467a58-2007-4545-8fda-29ac4f27ce85",
   "metadata": {},
   "outputs": [
    {
     "data": {
      "text/plain": [
       "2306909053631581.0"
      ]
     },
     "execution_count": 63,
     "metadata": {},
     "output_type": "execute_result"
    }
   ],
   "source": [
    "total_apbd_2020"
   ]
  },
  {
   "cell_type": "code",
   "execution_count": 59,
   "id": "4b3dbbb1-b09b-4fb5-a21f-b82b83cda137",
   "metadata": {},
   "outputs": [
    {
     "data": {
      "text/plain": [
       "2353420525206178.0"
      ]
     },
     "execution_count": 59,
     "metadata": {},
     "output_type": "execute_result"
    }
   ],
   "source": [
    "total_apbd_2021"
   ]
  },
  {
   "cell_type": "code",
   "execution_count": 69,
   "id": "0bd8a404-ec26-4b03-a3a3-4c90b5a1d189",
   "metadata": {},
   "outputs": [
    {
     "data": {
      "text/plain": [
       "-0.008660490551879016"
      ]
     },
     "execution_count": 69,
     "metadata": {},
     "output_type": "execute_result"
    }
   ],
   "source": [
    "kenaikan2019 = (total_apbd_2020 - total_apbd_2019)/total_apbd_2019\n",
    "kenaikan2019"
   ]
  },
  {
   "cell_type": "code",
   "execution_count": 70,
   "id": "a6a9c273-2c2e-45b1-915a-9f0be33e3c8c",
   "metadata": {},
   "outputs": [
    {
     "data": {
      "text/plain": [
       "0.020161814138870252"
      ]
     },
     "execution_count": 70,
     "metadata": {},
     "output_type": "execute_result"
    }
   ],
   "source": [
    "kenaikan2020 = (total_apbd_2021 - total_apbd_2020)/total_apbd_2020\n",
    "kenaikan2020"
   ]
  },
  {
   "cell_type": "code",
   "execution_count": 71,
   "id": "40cb86e3-64cf-4e23-a059-73de4faaf36f",
   "metadata": {},
   "outputs": [
    {
     "data": {
      "text/plain": [
       "2290129327465195.0"
      ]
     },
     "execution_count": 71,
     "metadata": {},
     "output_type": "execute_result"
    }
   ],
   "source": [
    "total_realisasi_2019"
   ]
  },
  {
   "cell_type": "code",
   "execution_count": 72,
   "id": "a92d9788-d979-4c2a-89f2-e732b76c9ebe",
   "metadata": {},
   "outputs": [
    {
     "data": {
      "text/plain": [
       "2113282613417304.5"
      ]
     },
     "execution_count": 72,
     "metadata": {},
     "output_type": "execute_result"
    }
   ],
   "source": [
    "total_realisasi_2020"
   ]
  },
  {
   "cell_type": "code",
   "execution_count": 73,
   "id": "c612e017-c7d6-4563-81de-e46b1f7c0b38",
   "metadata": {},
   "outputs": [
    {
     "data": {
      "text/plain": [
       "-0.07722127826013711"
      ]
     },
     "execution_count": 73,
     "metadata": {},
     "output_type": "execute_result"
    }
   ],
   "source": [
    "kenaikan2019 = (total_realisasi_2020 - total_realisasi_2019)/total_realisasi_2019\n",
    "kenaikan2019"
   ]
  },
  {
   "cell_type": "code",
   "execution_count": 4,
   "id": "1e9433e5-82a4-4f9b-8b70-cfd5e64de9a1",
   "metadata": {},
   "outputs": [
    {
     "data": {
      "text/html": [
       "<div>\n",
       "<style scoped>\n",
       "    .dataframe tbody tr th:only-of-type {\n",
       "        vertical-align: middle;\n",
       "    }\n",
       "\n",
       "    .dataframe tbody tr th {\n",
       "        vertical-align: top;\n",
       "    }\n",
       "\n",
       "    .dataframe thead th {\n",
       "        text-align: right;\n",
       "    }\n",
       "</style>\n",
       "<table border=\"1\" class=\"dataframe\">\n",
       "  <thead>\n",
       "    <tr style=\"text-align: right;\">\n",
       "      <th></th>\n",
       "      <th>Jenis Anggaran</th>\n",
       "      <th>Tahun</th>\n",
       "      <th>Nilai Anggaran</th>\n",
       "    </tr>\n",
       "  </thead>\n",
       "  <tbody>\n",
       "    <tr>\n",
       "      <th>0</th>\n",
       "      <td>APBD</td>\n",
       "      <td>2019</td>\n",
       "      <td>2.327063e+15</td>\n",
       "    </tr>\n",
       "    <tr>\n",
       "      <th>1</th>\n",
       "      <td>APBD</td>\n",
       "      <td>2020</td>\n",
       "      <td>2.306909e+15</td>\n",
       "    </tr>\n",
       "    <tr>\n",
       "      <th>2</th>\n",
       "      <td>APBD</td>\n",
       "      <td>2021</td>\n",
       "      <td>2.353421e+15</td>\n",
       "    </tr>\n",
       "    <tr>\n",
       "      <th>3</th>\n",
       "      <td>Realisasi</td>\n",
       "      <td>2019</td>\n",
       "      <td>2.290129e+15</td>\n",
       "    </tr>\n",
       "    <tr>\n",
       "      <th>4</th>\n",
       "      <td>Realisasi</td>\n",
       "      <td>2020</td>\n",
       "      <td>2.113283e+15</td>\n",
       "    </tr>\n",
       "  </tbody>\n",
       "</table>\n",
       "</div>"
      ],
      "text/plain": [
       "  Jenis Anggaran  Tahun  Nilai Anggaran\n",
       "0           APBD   2019    2.327063e+15\n",
       "1           APBD   2020    2.306909e+15\n",
       "2           APBD   2021    2.353421e+15\n",
       "3      Realisasi   2019    2.290129e+15\n",
       "4      Realisasi   2020    2.113283e+15"
      ]
     },
     "execution_count": 4,
     "metadata": {},
     "output_type": "execute_result"
    }
   ],
   "source": [
    "df_total"
   ]
  },
  {
   "cell_type": "code",
   "execution_count": 16,
   "id": "b187f6ae-35ba-49ad-bb8a-b41467fca7cc",
   "metadata": {},
   "outputs": [
    {
     "data": {
      "image/png": "[encoded data removed]",
      "text/plain": [
       "<Figure size 659.375x576 with 1 Axes>"
      ]
     },
     "metadata": {
      "needs_background": "light"
     },
     "output_type": "display_data"
    }
   ],
   "source": [
    "g = sns.catplot(x=\"Tahun\", y=\"Nilai Anggaran\",\n",
    "                hue=\"Jenis Anggaran\",\n",
    "                data=df_total, kind=\"bar\",\n",
    "                height=8, aspect=1);"
   ]
  },
  {
   "cell_type": "code",
   "execution_count": 50,
   "id": "3a92f442-bcbd-4c47-b976-3b81ae9ece57",
   "metadata": {},
   "outputs": [],
   "source": [
    "data_2019 = apbd_2019.groupby(by='Label').sum()\n",
    "data_2019['Label'] = data_2019.index\n",
    "data_2019 = data_2019.drop(['Tahun', 'Unnamed: 0', 'Kode Pemda', 'Cluster'], axis = 1)\n",
    "data_2019['Tahun'] = 2019\n",
    "data_2019['Jenis Anggaran'] = 'APBD'\n",
    "data_2019.to_excel('1_.xlsx')\n",
    "\n",
    "data_2020 = apbd_2020.groupby(by='Label').sum()\n",
    "data_2020['Label'] = data_2020.index\n",
    "data_2020 = data_2020.drop(['Tahun', 'Unnamed: 0', 'Kode Pemda', 'Cluster'], axis = 1)\n",
    "data_2020['Tahun'] = 2020\n",
    "data_2020['Jenis Anggaran'] = 'APBD'\n",
    "data_2020.to_excel('2_.xlsx')\n",
    "\n",
    "data_2021 = apbd_2021.groupby(by='Label').sum()\n",
    "data_2021['Label'] = data_2021.index\n",
    "data_2021 = data_2021.drop(['Tahun', 'Unnamed: 0', 'Kode Pemda', 'Cluster'], axis = 1)\n",
    "data_2021['Tahun'] = 2021\n",
    "data_2021['Jenis Anggaran'] = 'APBD'\n",
    "data_2021.to_excel('3_.xlsx')\n",
    "\n",
    "data_rea_2019 = realisasi_2019.groupby(by='Label').sum()\n",
    "data_rea_2019['Label'] = data_rea_2019.index\n",
    "data_rea_2019 = data_rea_2019.drop(['Tahun', 'Unnamed: 0', 'Kode Pemda', 'Cluster'], axis = 1)\n",
    "data_rea_2019['Tahun'] = 2019\n",
    "data_rea_2019['Jenis Anggaran'] = 'Realisasi'\n",
    "data_rea_2019.to_excel('4_.xlsx')\n",
    "\n",
    "data_rea_2020 = realisasi_2020.groupby(by='Label').sum()\n",
    "data_rea_2020['Label'] = data_rea_2020.index\n",
    "data_rea_2020 = data_rea_2020.drop(['Tahun', 'Unnamed: 0', 'Kode Pemda', 'Cluster'], axis = 1)\n",
    "data_rea_2020['Tahun'] = 2020\n",
    "data_rea_2020['Jenis Anggaran'] = 'Realisasi'\n",
    "data_rea_2020.to_excel('5_.xlsx')"
   ]
  },
  {
   "cell_type": "code",
   "execution_count": 51,
   "id": "9ee74183-7a68-48ee-9b64-bc8b1c763916",
   "metadata": {},
   "outputs": [
    {
     "data": {
      "text/html": [
       "<div>\n",
       "<style scoped>\n",
       "    .dataframe tbody tr th:only-of-type {\n",
       "        vertical-align: middle;\n",
       "    }\n",
       "\n",
       "    .dataframe tbody tr th {\n",
       "        vertical-align: top;\n",
       "    }\n",
       "\n",
       "    .dataframe thead th {\n",
       "        text-align: right;\n",
       "    }\n",
       "</style>\n",
       "<table border=\"1\" class=\"dataframe\">\n",
       "  <thead>\n",
       "    <tr style=\"text-align: right;\">\n",
       "      <th></th>\n",
       "      <th>Label</th>\n",
       "      <th>Nilai Anggaran</th>\n",
       "      <th>Tahun</th>\n",
       "      <th>Jenis Anggaran</th>\n",
       "    </tr>\n",
       "  </thead>\n",
       "  <tbody>\n",
       "    <tr>\n",
       "      <th>0</th>\n",
       "      <td>Kesehatan</td>\n",
       "      <td>1.625722e+14</td>\n",
       "      <td>2019</td>\n",
       "      <td>APBD</td>\n",
       "    </tr>\n",
       "    <tr>\n",
       "      <th>1</th>\n",
       "      <td>Lainnya</td>\n",
       "      <td>1.952778e+15</td>\n",
       "      <td>2019</td>\n",
       "      <td>APBD</td>\n",
       "    </tr>\n",
       "    <tr>\n",
       "      <th>2</th>\n",
       "      <td>Pariwisata</td>\n",
       "      <td>3.477551e+13</td>\n",
       "      <td>2019</td>\n",
       "      <td>APBD</td>\n",
       "    </tr>\n",
       "    <tr>\n",
       "      <th>3</th>\n",
       "      <td>Pendidikan</td>\n",
       "      <td>5.724460e+13</td>\n",
       "      <td>2019</td>\n",
       "      <td>APBD</td>\n",
       "    </tr>\n",
       "    <tr>\n",
       "      <th>4</th>\n",
       "      <td>Pertanian</td>\n",
       "      <td>1.119933e+14</td>\n",
       "      <td>2019</td>\n",
       "      <td>APBD</td>\n",
       "    </tr>\n",
       "    <tr>\n",
       "      <th>5</th>\n",
       "      <td>UMKM</td>\n",
       "      <td>7.698981e+12</td>\n",
       "      <td>2019</td>\n",
       "      <td>APBD</td>\n",
       "    </tr>\n",
       "    <tr>\n",
       "      <th>6</th>\n",
       "      <td>Kesehatan</td>\n",
       "      <td>1.011479e+14</td>\n",
       "      <td>2020</td>\n",
       "      <td>APBD</td>\n",
       "    </tr>\n",
       "    <tr>\n",
       "      <th>7</th>\n",
       "      <td>Lainnya</td>\n",
       "      <td>1.902032e+15</td>\n",
       "      <td>2020</td>\n",
       "      <td>APBD</td>\n",
       "    </tr>\n",
       "    <tr>\n",
       "      <th>8</th>\n",
       "      <td>Pariwisata</td>\n",
       "      <td>6.976247e+13</td>\n",
       "      <td>2020</td>\n",
       "      <td>APBD</td>\n",
       "    </tr>\n",
       "    <tr>\n",
       "      <th>9</th>\n",
       "      <td>Pendidikan</td>\n",
       "      <td>9.819439e+13</td>\n",
       "      <td>2020</td>\n",
       "      <td>APBD</td>\n",
       "    </tr>\n",
       "    <tr>\n",
       "      <th>10</th>\n",
       "      <td>Pertanian</td>\n",
       "      <td>1.034280e+14</td>\n",
       "      <td>2020</td>\n",
       "      <td>APBD</td>\n",
       "    </tr>\n",
       "    <tr>\n",
       "      <th>11</th>\n",
       "      <td>UMKM</td>\n",
       "      <td>3.234462e+13</td>\n",
       "      <td>2020</td>\n",
       "      <td>APBD</td>\n",
       "    </tr>\n",
       "    <tr>\n",
       "      <th>12</th>\n",
       "      <td>Kesehatan</td>\n",
       "      <td>7.506368e+13</td>\n",
       "      <td>2021</td>\n",
       "      <td>APBD</td>\n",
       "    </tr>\n",
       "    <tr>\n",
       "      <th>13</th>\n",
       "      <td>Lainnya</td>\n",
       "      <td>1.931559e+15</td>\n",
       "      <td>2021</td>\n",
       "      <td>APBD</td>\n",
       "    </tr>\n",
       "    <tr>\n",
       "      <th>14</th>\n",
       "      <td>Pariwisata</td>\n",
       "      <td>2.476166e+13</td>\n",
       "      <td>2021</td>\n",
       "      <td>APBD</td>\n",
       "    </tr>\n",
       "    <tr>\n",
       "      <th>15</th>\n",
       "      <td>Pendidikan</td>\n",
       "      <td>1.691347e+14</td>\n",
       "      <td>2021</td>\n",
       "      <td>APBD</td>\n",
       "    </tr>\n",
       "    <tr>\n",
       "      <th>16</th>\n",
       "      <td>Pertanian</td>\n",
       "      <td>7.012225e+13</td>\n",
       "      <td>2021</td>\n",
       "      <td>APBD</td>\n",
       "    </tr>\n",
       "    <tr>\n",
       "      <th>17</th>\n",
       "      <td>UMKM</td>\n",
       "      <td>8.277955e+13</td>\n",
       "      <td>2021</td>\n",
       "      <td>APBD</td>\n",
       "    </tr>\n",
       "    <tr>\n",
       "      <th>18</th>\n",
       "      <td>Kesehatan</td>\n",
       "      <td>7.242673e+13</td>\n",
       "      <td>2019</td>\n",
       "      <td>Realisasi</td>\n",
       "    </tr>\n",
       "    <tr>\n",
       "      <th>19</th>\n",
       "      <td>Lainnya</td>\n",
       "      <td>1.979850e+15</td>\n",
       "      <td>2019</td>\n",
       "      <td>Realisasi</td>\n",
       "    </tr>\n",
       "    <tr>\n",
       "      <th>20</th>\n",
       "      <td>Pariwisata</td>\n",
       "      <td>1.229331e+13</td>\n",
       "      <td>2019</td>\n",
       "      <td>Realisasi</td>\n",
       "    </tr>\n",
       "    <tr>\n",
       "      <th>21</th>\n",
       "      <td>Pendidikan</td>\n",
       "      <td>1.014824e+14</td>\n",
       "      <td>2019</td>\n",
       "      <td>Realisasi</td>\n",
       "    </tr>\n",
       "    <tr>\n",
       "      <th>22</th>\n",
       "      <td>Pertanian</td>\n",
       "      <td>1.024979e+14</td>\n",
       "      <td>2019</td>\n",
       "      <td>Realisasi</td>\n",
       "    </tr>\n",
       "    <tr>\n",
       "      <th>23</th>\n",
       "      <td>UMKM</td>\n",
       "      <td>2.157941e+13</td>\n",
       "      <td>2019</td>\n",
       "      <td>Realisasi</td>\n",
       "    </tr>\n",
       "    <tr>\n",
       "      <th>24</th>\n",
       "      <td>Kesehatan</td>\n",
       "      <td>9.657841e+13</td>\n",
       "      <td>2020</td>\n",
       "      <td>Realisasi</td>\n",
       "    </tr>\n",
       "    <tr>\n",
       "      <th>25</th>\n",
       "      <td>Lainnya</td>\n",
       "      <td>1.849649e+15</td>\n",
       "      <td>2020</td>\n",
       "      <td>Realisasi</td>\n",
       "    </tr>\n",
       "    <tr>\n",
       "      <th>26</th>\n",
       "      <td>Pariwisata</td>\n",
       "      <td>1.294276e+13</td>\n",
       "      <td>2020</td>\n",
       "      <td>Realisasi</td>\n",
       "    </tr>\n",
       "    <tr>\n",
       "      <th>27</th>\n",
       "      <td>Pendidikan</td>\n",
       "      <td>7.850584e+13</td>\n",
       "      <td>2020</td>\n",
       "      <td>Realisasi</td>\n",
       "    </tr>\n",
       "    <tr>\n",
       "      <th>28</th>\n",
       "      <td>Pertanian</td>\n",
       "      <td>7.482612e+13</td>\n",
       "      <td>2020</td>\n",
       "      <td>Realisasi</td>\n",
       "    </tr>\n",
       "    <tr>\n",
       "      <th>29</th>\n",
       "      <td>UMKM</td>\n",
       "      <td>7.801915e+11</td>\n",
       "      <td>2020</td>\n",
       "      <td>Realisasi</td>\n",
       "    </tr>\n",
       "  </tbody>\n",
       "</table>\n",
       "</div>"
      ],
      "text/plain": [
       "         Label  Nilai Anggaran  Tahun Jenis Anggaran\n",
       "0    Kesehatan    1.625722e+14   2019           APBD\n",
       "1      Lainnya    1.952778e+15   2019           APBD\n",
       "2   Pariwisata    3.477551e+13   2019           APBD\n",
       "3   Pendidikan    5.724460e+13   2019           APBD\n",
       "4    Pertanian    1.119933e+14   2019           APBD\n",
       "5         UMKM    7.698981e+12   2019           APBD\n",
       "6    Kesehatan    1.011479e+14   2020           APBD\n",
       "7      Lainnya    1.902032e+15   2020           APBD\n",
       "8   Pariwisata    6.976247e+13   2020           APBD\n",
       "9   Pendidikan    9.819439e+13   2020           APBD\n",
       "10   Pertanian    1.034280e+14   2020           APBD\n",
       "11        UMKM    3.234462e+13   2020           APBD\n",
       "12   Kesehatan    7.506368e+13   2021           APBD\n",
       "13     Lainnya    1.931559e+15   2021           APBD\n",
       "14  Pariwisata    2.476166e+13   2021           APBD\n",
       "15  Pendidikan    1.691347e+14   2021           APBD\n",
       "16   Pertanian    7.012225e+13   2021           APBD\n",
       "17        UMKM    8.277955e+13   2021           APBD\n",
       "18   Kesehatan    7.242673e+13   2019      Realisasi\n",
       "19     Lainnya    1.979850e+15   2019      Realisasi\n",
       "20  Pariwisata    1.229331e+13   2019      Realisasi\n",
       "21  Pendidikan    1.014824e+14   2019      Realisasi\n",
       "22   Pertanian    1.024979e+14   2019      Realisasi\n",
       "23        UMKM    2.157941e+13   2019      Realisasi\n",
       "24   Kesehatan    9.657841e+13   2020      Realisasi\n",
       "25     Lainnya    1.849649e+15   2020      Realisasi\n",
       "26  Pariwisata    1.294276e+13   2020      Realisasi\n",
       "27  Pendidikan    7.850584e+13   2020      Realisasi\n",
       "28   Pertanian    7.482612e+13   2020      Realisasi\n",
       "29        UMKM    7.801915e+11   2020      Realisasi"
      ]
     },
     "execution_count": 51,
     "metadata": {},
     "output_type": "execute_result"
    }
   ],
   "source": [
    "df_label = pd.read_excel('Data_Label.xlsx')\n",
    "df_label"
   ]
  },
  {
   "cell_type": "code",
   "execution_count": 54,
   "id": "bd7c9424-a899-41eb-a161-36debb0bd5f3",
   "metadata": {},
   "outputs": [],
   "source": [
    "df_label = df_label.loc[df_label['Label'] != 'Lainnya']"
   ]
  },
  {
   "cell_type": "code",
   "execution_count": 55,
   "id": "5ac6f7a2-943d-4dae-8e7b-a5c7227716ee",
   "metadata": {},
   "outputs": [
    {
     "data": {
      "image/png": "[encoded data removed]",
      "text/plain": [
       "<Figure size 659.375x2880 with 5 Axes>"
      ]
     },
     "metadata": {
      "needs_background": "light"
     },
     "output_type": "display_data"
    }
   ],
   "source": [
    "g = sns.catplot(x=\"Tahun\", y=\"Nilai Anggaran\",\n",
    "                hue=\"Jenis Anggaran\",\n",
    "                data=df_label, kind=\"bar\", col=\"Label\",\n",
    "                col_wrap=1,\n",
    "                height=8, aspect=1);"
   ]
  },
  {
   "cell_type": "code",
   "execution_count": 74,
   "id": "7c9f753f-7a28-4559-ada9-f9f33a3714e5",
   "metadata": {},
   "outputs": [
    {
     "data": {
      "text/html": [
       "<div>\n",
       "<style scoped>\n",
       "    .dataframe tbody tr th:only-of-type {\n",
       "        vertical-align: middle;\n",
       "    }\n",
       "\n",
       "    .dataframe tbody tr th {\n",
       "        vertical-align: top;\n",
       "    }\n",
       "\n",
       "    .dataframe thead th {\n",
       "        text-align: right;\n",
       "    }\n",
       "</style>\n",
       "<table border=\"1\" class=\"dataframe\">\n",
       "  <thead>\n",
       "    <tr style=\"text-align: right;\">\n",
       "      <th></th>\n",
       "      <th>Label</th>\n",
       "      <th>Nilai Anggaran</th>\n",
       "      <th>Tahun</th>\n",
       "      <th>Jenis Anggaran</th>\n",
       "    </tr>\n",
       "  </thead>\n",
       "  <tbody>\n",
       "    <tr>\n",
       "      <th>0</th>\n",
       "      <td>Kesehatan</td>\n",
       "      <td>1.625722e+14</td>\n",
       "      <td>2019</td>\n",
       "      <td>APBD</td>\n",
       "    </tr>\n",
       "    <tr>\n",
       "      <th>2</th>\n",
       "      <td>Pariwisata</td>\n",
       "      <td>3.477551e+13</td>\n",
       "      <td>2019</td>\n",
       "      <td>APBD</td>\n",
       "    </tr>\n",
       "    <tr>\n",
       "      <th>3</th>\n",
       "      <td>Pendidikan</td>\n",
       "      <td>5.724460e+13</td>\n",
       "      <td>2019</td>\n",
       "      <td>APBD</td>\n",
       "    </tr>\n",
       "    <tr>\n",
       "      <th>4</th>\n",
       "      <td>Pertanian</td>\n",
       "      <td>1.119933e+14</td>\n",
       "      <td>2019</td>\n",
       "      <td>APBD</td>\n",
       "    </tr>\n",
       "    <tr>\n",
       "      <th>5</th>\n",
       "      <td>UMKM</td>\n",
       "      <td>7.698981e+12</td>\n",
       "      <td>2019</td>\n",
       "      <td>APBD</td>\n",
       "    </tr>\n",
       "    <tr>\n",
       "      <th>6</th>\n",
       "      <td>Kesehatan</td>\n",
       "      <td>1.011479e+14</td>\n",
       "      <td>2020</td>\n",
       "      <td>APBD</td>\n",
       "    </tr>\n",
       "    <tr>\n",
       "      <th>8</th>\n",
       "      <td>Pariwisata</td>\n",
       "      <td>6.976247e+13</td>\n",
       "      <td>2020</td>\n",
       "      <td>APBD</td>\n",
       "    </tr>\n",
       "    <tr>\n",
       "      <th>9</th>\n",
       "      <td>Pendidikan</td>\n",
       "      <td>9.819439e+13</td>\n",
       "      <td>2020</td>\n",
       "      <td>APBD</td>\n",
       "    </tr>\n",
       "    <tr>\n",
       "      <th>10</th>\n",
       "      <td>Pertanian</td>\n",
       "      <td>1.034280e+14</td>\n",
       "      <td>2020</td>\n",
       "      <td>APBD</td>\n",
       "    </tr>\n",
       "    <tr>\n",
       "      <th>11</th>\n",
       "      <td>UMKM</td>\n",
       "      <td>3.234462e+13</td>\n",
       "      <td>2020</td>\n",
       "      <td>APBD</td>\n",
       "    </tr>\n",
       "    <tr>\n",
       "      <th>12</th>\n",
       "      <td>Kesehatan</td>\n",
       "      <td>7.506368e+13</td>\n",
       "      <td>2021</td>\n",
       "      <td>APBD</td>\n",
       "    </tr>\n",
       "    <tr>\n",
       "      <th>14</th>\n",
       "      <td>Pariwisata</td>\n",
       "      <td>2.476166e+13</td>\n",
       "      <td>2021</td>\n",
       "      <td>APBD</td>\n",
       "    </tr>\n",
       "    <tr>\n",
       "      <th>15</th>\n",
       "      <td>Pendidikan</td>\n",
       "      <td>1.691347e+14</td>\n",
       "      <td>2021</td>\n",
       "      <td>APBD</td>\n",
       "    </tr>\n",
       "    <tr>\n",
       "      <th>16</th>\n",
       "      <td>Pertanian</td>\n",
       "      <td>7.012225e+13</td>\n",
       "      <td>2021</td>\n",
       "      <td>APBD</td>\n",
       "    </tr>\n",
       "    <tr>\n",
       "      <th>17</th>\n",
       "      <td>UMKM</td>\n",
       "      <td>8.277955e+13</td>\n",
       "      <td>2021</td>\n",
       "      <td>APBD</td>\n",
       "    </tr>\n",
       "    <tr>\n",
       "      <th>18</th>\n",
       "      <td>Kesehatan</td>\n",
       "      <td>7.242673e+13</td>\n",
       "      <td>2019</td>\n",
       "      <td>Realisasi</td>\n",
       "    </tr>\n",
       "    <tr>\n",
       "      <th>20</th>\n",
       "      <td>Pariwisata</td>\n",
       "      <td>1.229331e+13</td>\n",
       "      <td>2019</td>\n",
       "      <td>Realisasi</td>\n",
       "    </tr>\n",
       "    <tr>\n",
       "      <th>21</th>\n",
       "      <td>Pendidikan</td>\n",
       "      <td>1.014824e+14</td>\n",
       "      <td>2019</td>\n",
       "      <td>Realisasi</td>\n",
       "    </tr>\n",
       "    <tr>\n",
       "      <th>22</th>\n",
       "      <td>Pertanian</td>\n",
       "      <td>1.024979e+14</td>\n",
       "      <td>2019</td>\n",
       "      <td>Realisasi</td>\n",
       "    </tr>\n",
       "    <tr>\n",
       "      <th>23</th>\n",
       "      <td>UMKM</td>\n",
       "      <td>2.157941e+13</td>\n",
       "      <td>2019</td>\n",
       "      <td>Realisasi</td>\n",
       "    </tr>\n",
       "    <tr>\n",
       "      <th>24</th>\n",
       "      <td>Kesehatan</td>\n",
       "      <td>9.657841e+13</td>\n",
       "      <td>2020</td>\n",
       "      <td>Realisasi</td>\n",
       "    </tr>\n",
       "    <tr>\n",
       "      <th>26</th>\n",
       "      <td>Pariwisata</td>\n",
       "      <td>1.294276e+13</td>\n",
       "      <td>2020</td>\n",
       "      <td>Realisasi</td>\n",
       "    </tr>\n",
       "    <tr>\n",
       "      <th>27</th>\n",
       "      <td>Pendidikan</td>\n",
       "      <td>7.850584e+13</td>\n",
       "      <td>2020</td>\n",
       "      <td>Realisasi</td>\n",
       "    </tr>\n",
       "    <tr>\n",
       "      <th>28</th>\n",
       "      <td>Pertanian</td>\n",
       "      <td>7.482612e+13</td>\n",
       "      <td>2020</td>\n",
       "      <td>Realisasi</td>\n",
       "    </tr>\n",
       "    <tr>\n",
       "      <th>29</th>\n",
       "      <td>UMKM</td>\n",
       "      <td>7.801915e+11</td>\n",
       "      <td>2020</td>\n",
       "      <td>Realisasi</td>\n",
       "    </tr>\n",
       "  </tbody>\n",
       "</table>\n",
       "</div>"
      ],
      "text/plain": [
       "         Label  Nilai Anggaran  Tahun Jenis Anggaran\n",
       "0    Kesehatan    1.625722e+14   2019           APBD\n",
       "2   Pariwisata    3.477551e+13   2019           APBD\n",
       "3   Pendidikan    5.724460e+13   2019           APBD\n",
       "4    Pertanian    1.119933e+14   2019           APBD\n",
       "5         UMKM    7.698981e+12   2019           APBD\n",
       "6    Kesehatan    1.011479e+14   2020           APBD\n",
       "8   Pariwisata    6.976247e+13   2020           APBD\n",
       "9   Pendidikan    9.819439e+13   2020           APBD\n",
       "10   Pertanian    1.034280e+14   2020           APBD\n",
       "11        UMKM    3.234462e+13   2020           APBD\n",
       "12   Kesehatan    7.506368e+13   2021           APBD\n",
       "14  Pariwisata    2.476166e+13   2021           APBD\n",
       "15  Pendidikan    1.691347e+14   2021           APBD\n",
       "16   Pertanian    7.012225e+13   2021           APBD\n",
       "17        UMKM    8.277955e+13   2021           APBD\n",
       "18   Kesehatan    7.242673e+13   2019      Realisasi\n",
       "20  Pariwisata    1.229331e+13   2019      Realisasi\n",
       "21  Pendidikan    1.014824e+14   2019      Realisasi\n",
       "22   Pertanian    1.024979e+14   2019      Realisasi\n",
       "23        UMKM    2.157941e+13   2019      Realisasi\n",
       "24   Kesehatan    9.657841e+13   2020      Realisasi\n",
       "26  Pariwisata    1.294276e+13   2020      Realisasi\n",
       "27  Pendidikan    7.850584e+13   2020      Realisasi\n",
       "28   Pertanian    7.482612e+13   2020      Realisasi\n",
       "29        UMKM    7.801915e+11   2020      Realisasi"
      ]
     },
     "execution_count": 74,
     "metadata": {},
     "output_type": "execute_result"
    }
   ],
   "source": [
    "df_label"
   ]
  },
  {
   "cell_type": "code",
   "execution_count": 81,
   "id": "6693fb5e-8534-49a7-97f8-011d6f1578f7",
   "metadata": {},
   "outputs": [],
   "source": [
    "kesehatan2019_total = df_label.loc[(df_label['Label'] == 'Kesehatan') & (df_label['Tahun'] == 2019) & (df_label['Jenis Anggaran'] == 'APBD')]['Nilai Anggaran'].sum()\n",
    "kesehatan2020_total = df_label.loc[(df_label['Label'] == 'Kesehatan') & (df_label['Tahun'] == 2020) & (df_label['Jenis Anggaran'] == 'APBD')]['Nilai Anggaran'].sum()\n",
    "kesehatan2021_total = df_label.loc[(df_label['Label'] == 'Kesehatan') & (df_label['Tahun'] == 2021) & (df_label['Jenis Anggaran'] == 'APBD')]['Nilai Anggaran'].sum()\n",
    "kesehatan2019_rea_total = df_label.loc[(df_label['Label'] == 'Kesehatan') & (df_label['Tahun'] == 2019) & (df_label['Jenis Anggaran'] == 'Realisasi')]['Nilai Anggaran'].sum()\n",
    "kesehatan2020_rea_total = df_label.loc[(df_label['Label'] == 'Kesehatan') & (df_label['Tahun'] == 2020) & (df_label['Jenis Anggaran'] == 'Realisasi')]['Nilai Anggaran'].sum()"
   ]
  },
  {
   "cell_type": "code",
   "execution_count": 82,
   "id": "e3bfbfe1-415e-41f6-a45c-0387aec9b40c",
   "metadata": {},
   "outputs": [
    {
     "data": {
      "text/plain": [
       "0.4455050495530482"
      ]
     },
     "execution_count": 82,
     "metadata": {},
     "output_type": "execute_result"
    }
   ],
   "source": [
    "kesehatan2019_rea_total/kesehatan2019_total"
   ]
  },
  {
   "cell_type": "code",
   "execution_count": 83,
   "id": "9f6d4266-032b-4334-afe6-3f6f21913dec",
   "metadata": {},
   "outputs": [
    {
     "data": {
      "text/plain": [
       "0.9548239585478109"
      ]
     },
     "execution_count": 83,
     "metadata": {},
     "output_type": "execute_result"
    }
   ],
   "source": [
    "kesehatan2020_rea_total/kesehatan2020_total"
   ]
  },
  {
   "cell_type": "code",
   "execution_count": 86,
   "id": "31531f60-6762-468b-bfe8-4f5b4136a30e",
   "metadata": {},
   "outputs": [
    {
     "data": {
      "text/plain": [
       "75063677080336.61"
      ]
     },
     "execution_count": 86,
     "metadata": {},
     "output_type": "execute_result"
    }
   ],
   "source": [
    "kesehatan2021_total"
   ]
  },
  {
   "cell_type": "code",
   "execution_count": 88,
   "id": "ff81ef4b-8ce1-47ce-a97e-ec5d329a5a5c",
   "metadata": {},
   "outputs": [
    {
     "data": {
      "text/plain": [
       "96578412758723.17"
      ]
     },
     "execution_count": 88,
     "metadata": {},
     "output_type": "execute_result"
    }
   ],
   "source": [
    "kesehatan2020_rea_total"
   ]
  },
  {
   "cell_type": "code",
   "execution_count": 96,
   "id": "a86ab442-7a12-46fd-a9af-596913340715",
   "metadata": {},
   "outputs": [
    {
     "data": {
      "text/plain": [
       "0.3334637303394336"
      ]
     },
     "execution_count": 96,
     "metadata": {},
     "output_type": "execute_result"
    }
   ],
   "source": [
    "kenaikan2019 = (kesehatan2020_rea_total - kesehatan2019_rea_total) / kesehatan2019_rea_total\n",
    "kenaikan2019"
   ]
  },
  {
   "cell_type": "code",
   "execution_count": 92,
   "id": "51c11528-db35-4272-ad2d-deeb868ed4dd",
   "metadata": {},
   "outputs": [
    {
     "data": {
      "text/plain": [
       "96578412758723.17"
      ]
     },
     "execution_count": 92,
     "metadata": {},
     "output_type": "execute_result"
    }
   ],
   "source": [
    "kesehatan2020_rea_total"
   ]
  },
  {
   "cell_type": "code",
   "execution_count": 93,
   "id": "69f1ddb4-7bcf-4f25-9f74-081f142e8d7f",
   "metadata": {},
   "outputs": [
    {
     "data": {
      "text/plain": [
       "72426726397829.44"
      ]
     },
     "execution_count": 93,
     "metadata": {},
     "output_type": "execute_result"
    }
   ],
   "source": [
    "kesehatan2019_rea_total"
   ]
  },
  {
   "cell_type": "code",
   "execution_count": 95,
   "id": "116de689-801c-46bf-9bfd-65a28914e8a6",
   "metadata": {},
   "outputs": [
    {
     "data": {
      "text/plain": [
       "0.7499266588566678"
      ]
     },
     "execution_count": 95,
     "metadata": {},
     "output_type": "execute_result"
    }
   ],
   "source": [
    "kesehatan2019_rea_total/kesehatan2020_rea_total"
   ]
  },
  {
   "cell_type": "code",
   "execution_count": 135,
   "id": "abd55ef2-368a-44d5-92e7-5fe701185b7e",
   "metadata": {},
   "outputs": [],
   "source": [
    "pariwisata2019_total = df_label.loc[(df_label['Label'] == 'UMKM') & (df_label['Tahun'] == 2019) & (df_label['Jenis Anggaran'] == 'APBD')]['Nilai Anggaran'].sum()\n",
    "pariwisata2020_total = df_label.loc[(df_label['Label'] == 'UMKM') & (df_label['Tahun'] == 2020) & (df_label['Jenis Anggaran'] == 'APBD')]['Nilai Anggaran'].sum()\n",
    "pariwisata2021_total = df_label.loc[(df_label['Label'] == 'UMKM') & (df_label['Tahun'] == 2021) & (df_label['Jenis Anggaran'] == 'APBD')]['Nilai Anggaran'].sum()\n",
    "pariwisata2019_rea_total = df_label.loc[(df_label['Label'] == 'UMKM') & (df_label['Tahun'] == 2019) & (df_label['Jenis Anggaran'] == 'Realisasi')]['Nilai Anggaran'].sum()\n",
    "pariwisata2020_rea_total = df_label.loc[(df_label['Label'] == 'UMKM') & (df_label['Tahun'] == 2020) & (df_label['Jenis Anggaran'] == 'Realisasi')]['Nilai Anggaran'].sum()"
   ]
  },
  {
   "cell_type": "code",
   "execution_count": 136,
   "id": "9fbfcbef-e30b-4522-9dfe-b7392603e3d8",
   "metadata": {},
   "outputs": [
    {
     "data": {
      "text/plain": [
       "2.8028919168531585"
      ]
     },
     "execution_count": 136,
     "metadata": {},
     "output_type": "execute_result"
    }
   ],
   "source": [
    "pariwisata2019_rea_total / pariwisata2019_total"
   ]
  },
  {
   "cell_type": "code",
   "execution_count": 137,
   "id": "6aa070ba-a0b2-400c-9163-6ca5fe194797",
   "metadata": {},
   "outputs": [
    {
     "data": {
      "text/plain": [
       "0.02412121408272953"
      ]
     },
     "execution_count": 137,
     "metadata": {},
     "output_type": "execute_result"
    }
   ],
   "source": [
    "pariwisata2020_rea_total / pariwisata2020_total"
   ]
  },
  {
   "cell_type": "code",
   "execution_count": 138,
   "id": "f6b9b7cf-2123-4ae0-bcc1-537e908f93b2",
   "metadata": {},
   "outputs": [
    {
     "data": {
      "text/plain": [
       "7698980889353.396"
      ]
     },
     "execution_count": 138,
     "metadata": {},
     "output_type": "execute_result"
    }
   ],
   "source": [
    "pariwisata2019_total"
   ]
  },
  {
   "cell_type": "code",
   "execution_count": 139,
   "id": "10c4dcf2-461d-4b59-9b5d-e76ee81b357d",
   "metadata": {},
   "outputs": [
    {
     "data": {
      "text/plain": [
       "32344618140337.17"
      ]
     },
     "execution_count": 139,
     "metadata": {},
     "output_type": "execute_result"
    }
   ],
   "source": [
    "pariwisata2020_total"
   ]
  },
  {
   "cell_type": "code",
   "execution_count": 140,
   "id": "879b7eea-d486-4520-97db-242e3e75f107",
   "metadata": {},
   "outputs": [
    {
     "data": {
      "text/plain": [
       "82779552057731.58"
      ]
     },
     "execution_count": 140,
     "metadata": {},
     "output_type": "execute_result"
    }
   ],
   "source": [
    "pariwisata2021_total"
   ]
  },
  {
   "cell_type": "code",
   "execution_count": 141,
   "id": "b87bfa8b-ea3c-4dbf-b332-31e33a7fe929",
   "metadata": {},
   "outputs": [
    {
     "data": {
      "text/plain": [
       "21579411302775.58"
      ]
     },
     "execution_count": 141,
     "metadata": {},
     "output_type": "execute_result"
    }
   ],
   "source": [
    "pariwisata2019_rea_total"
   ]
  },
  {
   "cell_type": "code",
   "execution_count": 142,
   "id": "b9c12618-e0fc-4cc9-b06f-26234c97ce0c",
   "metadata": {},
   "outputs": [
    {
     "data": {
      "text/plain": [
       "780191458587.21"
      ]
     },
     "execution_count": 142,
     "metadata": {},
     "output_type": "execute_result"
    }
   ],
   "source": [
    "pariwisata2020_rea_total"
   ]
  },
  {
   "cell_type": "code",
   "execution_count": 143,
   "id": "33dd855a-9c05-4fc2-8fd4-6af08d924d4d",
   "metadata": {},
   "outputs": [
    {
     "data": {
      "text/plain": [
       "3.2011557899910117"
      ]
     },
     "execution_count": 143,
     "metadata": {},
     "output_type": "execute_result"
    }
   ],
   "source": [
    "(pariwisata2020_total - pariwisata2019_total) / pariwisata2019_total"
   ]
  },
  {
   "cell_type": "code",
   "execution_count": 144,
   "id": "07ca36b7-e142-46d0-a7a0-80ae39529889",
   "metadata": {},
   "outputs": [
    {
     "data": {
      "text/plain": [
       "1.5592990988042208"
      ]
     },
     "execution_count": 144,
     "metadata": {},
     "output_type": "execute_result"
    }
   ],
   "source": [
    "(pariwisata2021_total - pariwisata2020_total) / pariwisata2020_total"
   ]
  },
  {
   "cell_type": "code",
   "execution_count": 145,
   "id": "3e549a2f-54be-4258-a738-35349e4491e1",
   "metadata": {},
   "outputs": [
    {
     "data": {
      "text/plain": [
       "-0.9638455633640542"
      ]
     },
     "execution_count": 145,
     "metadata": {},
     "output_type": "execute_result"
    }
   ],
   "source": [
    "(pariwisata2020_rea_total - pariwisata2019_rea_total) / pariwisata2019_rea_total"
   ]
  },
  {
   "cell_type": "code",
   "execution_count": 147,
   "id": "28ff5479-20f8-4d69-a837-caba653b8eca",
   "metadata": {},
   "outputs": [
    {
     "data": {
      "text/html": [
       "<div>\n",
       "<style scoped>\n",
       "    .dataframe tbody tr th:only-of-type {\n",
       "        vertical-align: middle;\n",
       "    }\n",
       "\n",
       "    .dataframe tbody tr th {\n",
       "        vertical-align: top;\n",
       "    }\n",
       "\n",
       "    .dataframe thead th {\n",
       "        text-align: right;\n",
       "    }\n",
       "</style>\n",
       "<table border=\"1\" class=\"dataframe\">\n",
       "  <thead>\n",
       "    <tr style=\"text-align: right;\">\n",
       "      <th></th>\n",
       "      <th>Unnamed: 0</th>\n",
       "      <th>Kode Pemda</th>\n",
       "      <th>Tahun</th>\n",
       "      <th>Nilai Anggaran</th>\n",
       "      <th>Cluster</th>\n",
       "    </tr>\n",
       "  </thead>\n",
       "  <tbody>\n",
       "    <tr>\n",
       "      <th>count</th>\n",
       "      <td>699801.000000</td>\n",
       "      <td>699801.000000</td>\n",
       "      <td>699801.0</td>\n",
       "      <td>6.998010e+05</td>\n",
       "      <td>699801.000000</td>\n",
       "    </tr>\n",
       "    <tr>\n",
       "      <th>mean</th>\n",
       "      <td>349900.000000</td>\n",
       "      <td>14.907575</td>\n",
       "      <td>2019.0</td>\n",
       "      <td>3.325320e+09</td>\n",
       "      <td>22.369411</td>\n",
       "    </tr>\n",
       "    <tr>\n",
       "      <th>std</th>\n",
       "      <td>202015.292201</td>\n",
       "      <td>8.761182</td>\n",
       "      <td>0.0</td>\n",
       "      <td>9.126285e+10</td>\n",
       "      <td>15.856465</td>\n",
       "    </tr>\n",
       "    <tr>\n",
       "      <th>min</th>\n",
       "      <td>0.000000</td>\n",
       "      <td>1.000000</td>\n",
       "      <td>2019.0</td>\n",
       "      <td>1.015000e+05</td>\n",
       "      <td>0.000000</td>\n",
       "    </tr>\n",
       "    <tr>\n",
       "      <th>25%</th>\n",
       "      <td>174950.000000</td>\n",
       "      <td>8.150000</td>\n",
       "      <td>2019.0</td>\n",
       "      <td>2.005000e+07</td>\n",
       "      <td>7.000000</td>\n",
       "    </tr>\n",
       "    <tr>\n",
       "      <th>50%</th>\n",
       "      <td>349900.000000</td>\n",
       "      <td>13.310000</td>\n",
       "      <td>2019.0</td>\n",
       "      <td>7.160000e+07</td>\n",
       "      <td>20.000000</td>\n",
       "    </tr>\n",
       "    <tr>\n",
       "      <th>75%</th>\n",
       "      <td>524850.000000</td>\n",
       "      <td>21.120000</td>\n",
       "      <td>2019.0</td>\n",
       "      <td>2.509270e+08</td>\n",
       "      <td>39.000000</td>\n",
       "    </tr>\n",
       "    <tr>\n",
       "      <th>max</th>\n",
       "      <td>699800.000000</td>\n",
       "      <td>34.050000</td>\n",
       "      <td>2019.0</td>\n",
       "      <td>4.418000e+13</td>\n",
       "      <td>49.000000</td>\n",
       "    </tr>\n",
       "  </tbody>\n",
       "</table>\n",
       "</div>"
      ],
      "text/plain": [
       "          Unnamed: 0     Kode Pemda     Tahun  Nilai Anggaran        Cluster\n",
       "count  699801.000000  699801.000000  699801.0    6.998010e+05  699801.000000\n",
       "mean   349900.000000      14.907575    2019.0    3.325320e+09      22.369411\n",
       "std    202015.292201       8.761182       0.0    9.126285e+10      15.856465\n",
       "min         0.000000       1.000000    2019.0    1.015000e+05       0.000000\n",
       "25%    174950.000000       8.150000    2019.0    2.005000e+07       7.000000\n",
       "50%    349900.000000      13.310000    2019.0    7.160000e+07      20.000000\n",
       "75%    524850.000000      21.120000    2019.0    2.509270e+08      39.000000\n",
       "max    699800.000000      34.050000    2019.0    4.418000e+13      49.000000"
      ]
     },
     "execution_count": 147,
     "metadata": {},
     "output_type": "execute_result"
    }
   ],
   "source": [
    "apbd_2019.describe()"
   ]
  },
  {
   "cell_type": "code",
   "execution_count": 148,
   "id": "cce2aa70-c17a-47f7-980a-94aa7feefca1",
   "metadata": {},
   "outputs": [
    {
     "data": {
      "text/html": [
       "<div>\n",
       "<style scoped>\n",
       "    .dataframe tbody tr th:only-of-type {\n",
       "        vertical-align: middle;\n",
       "    }\n",
       "\n",
       "    .dataframe tbody tr th {\n",
       "        vertical-align: top;\n",
       "    }\n",
       "\n",
       "    .dataframe thead th {\n",
       "        text-align: right;\n",
       "    }\n",
       "</style>\n",
       "<table border=\"1\" class=\"dataframe\">\n",
       "  <thead>\n",
       "    <tr style=\"text-align: right;\">\n",
       "      <th></th>\n",
       "      <th>Unnamed: 0</th>\n",
       "      <th>Akun Analisis</th>\n",
       "      <th>Nama Kegiatan</th>\n",
       "      <th>Nama Kegiatan_stem</th>\n",
       "      <th>Kode Pemda</th>\n",
       "      <th>Standar Pemda</th>\n",
       "      <th>Tahun</th>\n",
       "      <th>Nilai Anggaran</th>\n",
       "      <th>Cluster</th>\n",
       "      <th>Label</th>\n",
       "    </tr>\n",
       "  </thead>\n",
       "  <tbody>\n",
       "    <tr>\n",
       "      <th>0</th>\n",
       "      <td>0</td>\n",
       "      <td>41. PAD</td>\n",
       "      <td>pendapatan</td>\n",
       "      <td>kosong</td>\n",
       "      <td>1.0</td>\n",
       "      <td>Provinsi Aceh</td>\n",
       "      <td>2019</td>\n",
       "      <td>1.509791e+12</td>\n",
       "      <td>1</td>\n",
       "      <td>Lainnya</td>\n",
       "    </tr>\n",
       "  </tbody>\n",
       "</table>\n",
       "</div>"
      ],
      "text/plain": [
       "   Unnamed: 0 Akun Analisis Nama Kegiatan Nama Kegiatan_stem  Kode Pemda  \\\n",
       "0           0       41. PAD    pendapatan             kosong         1.0   \n",
       "\n",
       "   Standar Pemda  Tahun  Nilai Anggaran  Cluster    Label  \n",
       "0  Provinsi Aceh   2019    1.509791e+12        1  Lainnya  "
      ]
     },
     "execution_count": 148,
     "metadata": {},
     "output_type": "execute_result"
    }
   ],
   "source": [
    "apbd_2019.head(1)"
   ]
  },
  {
   "cell_type": "code",
   "execution_count": 150,
   "id": "05a181f6-58dd-4e94-b4c9-ac491ab154f2",
   "metadata": {},
   "outputs": [],
   "source": [
    "dfff = pd.read_excel('APBD_2019_clean.xlsx')"
   ]
  },
  {
   "cell_type": "code",
   "execution_count": 151,
   "id": "fe5dfc39-d68e-45e4-986a-69b4e86dbd49",
   "metadata": {},
   "outputs": [],
   "source": [
    "dff = pd.read_excel('APBD_Realisasi_Prov.xlsx')"
   ]
  },
  {
   "cell_type": "code",
   "execution_count": 152,
   "id": "3776774c-0f85-4310-b33b-0e9640301f25",
   "metadata": {},
   "outputs": [
    {
     "data": {
      "text/html": [
       "<div>\n",
       "<style scoped>\n",
       "    .dataframe tbody tr th:only-of-type {\n",
       "        vertical-align: middle;\n",
       "    }\n",
       "\n",
       "    .dataframe tbody tr th {\n",
       "        vertical-align: top;\n",
       "    }\n",
       "\n",
       "    .dataframe thead th {\n",
       "        text-align: right;\n",
       "    }\n",
       "</style>\n",
       "<table border=\"1\" class=\"dataframe\">\n",
       "  <thead>\n",
       "    <tr style=\"text-align: right;\">\n",
       "      <th></th>\n",
       "      <th>id</th>\n",
       "      <th>Akun Analisis</th>\n",
       "      <th>Kodepemda</th>\n",
       "      <th>Namakegiatan</th>\n",
       "      <th>Namaprogram</th>\n",
       "      <th>standarjenis</th>\n",
       "      <th>standarkelompok</th>\n",
       "      <th>standarpemda</th>\n",
       "      <th>standarutama</th>\n",
       "      <th>Tahunanggaran</th>\n",
       "      <th>Nilaianggaran</th>\n",
       "    </tr>\n",
       "  </thead>\n",
       "  <tbody>\n",
       "    <tr>\n",
       "      <th>0</th>\n",
       "      <td>0</td>\n",
       "      <td>41. PAD</td>\n",
       "      <td>1.00</td>\n",
       "      <td>Pendapatan</td>\n",
       "      <td>Non Program</td>\n",
       "      <td>411. Pajak Daerah</td>\n",
       "      <td>41. Pendapatan Asli Daerah</td>\n",
       "      <td>Provinsi Aceh</td>\n",
       "      <td>4. Pendapatan Daerah</td>\n",
       "      <td>2019</td>\n",
       "      <td>1.509791e+12</td>\n",
       "    </tr>\n",
       "    <tr>\n",
       "      <th>1</th>\n",
       "      <td>1</td>\n",
       "      <td>41. PAD</td>\n",
       "      <td>1.00</td>\n",
       "      <td>Pendapatan</td>\n",
       "      <td>Non Program</td>\n",
       "      <td>412. Retribusi Daerah</td>\n",
       "      <td>41. Pendapatan Asli Daerah</td>\n",
       "      <td>Provinsi Aceh</td>\n",
       "      <td>4. Pendapatan Daerah</td>\n",
       "      <td>2019</td>\n",
       "      <td>2.886440e+10</td>\n",
       "    </tr>\n",
       "    <tr>\n",
       "      <th>2</th>\n",
       "      <td>2</td>\n",
       "      <td>41. PAD</td>\n",
       "      <td>1.00</td>\n",
       "      <td>Pendapatan</td>\n",
       "      <td>Non Program</td>\n",
       "      <td>413. Hasil Pengelolaan Kekayaan Daerah yang Di...</td>\n",
       "      <td>41. Pendapatan Asli Daerah</td>\n",
       "      <td>Provinsi Aceh</td>\n",
       "      <td>4. Pendapatan Daerah</td>\n",
       "      <td>2019</td>\n",
       "      <td>1.969350e+11</td>\n",
       "    </tr>\n",
       "    <tr>\n",
       "      <th>3</th>\n",
       "      <td>3</td>\n",
       "      <td>41. PAD</td>\n",
       "      <td>1.00</td>\n",
       "      <td>Pendapatan</td>\n",
       "      <td>Non Program</td>\n",
       "      <td>414. Lain-Lain PAD yang Sah</td>\n",
       "      <td>41. Pendapatan Asli Daerah</td>\n",
       "      <td>Provinsi Aceh</td>\n",
       "      <td>4. Pendapatan Daerah</td>\n",
       "      <td>2019</td>\n",
       "      <td>7.460386e+11</td>\n",
       "    </tr>\n",
       "    <tr>\n",
       "      <th>4</th>\n",
       "      <td>4</td>\n",
       "      <td>41. PAD</td>\n",
       "      <td>1.01</td>\n",
       "      <td>Non Kegiatan</td>\n",
       "      <td>Non Program</td>\n",
       "      <td>411. Pajak Daerah</td>\n",
       "      <td>41. Pendapatan Asli Daerah</td>\n",
       "      <td>Kab. Aceh Barat</td>\n",
       "      <td>4. Pendapatan Daerah</td>\n",
       "      <td>2019</td>\n",
       "      <td>1.630089e+10</td>\n",
       "    </tr>\n",
       "    <tr>\n",
       "      <th>...</th>\n",
       "      <td>...</td>\n",
       "      <td>...</td>\n",
       "      <td>...</td>\n",
       "      <td>...</td>\n",
       "      <td>...</td>\n",
       "      <td>...</td>\n",
       "      <td>...</td>\n",
       "      <td>...</td>\n",
       "      <td>...</td>\n",
       "      <td>...</td>\n",
       "      <td>...</td>\n",
       "    </tr>\n",
       "    <tr>\n",
       "      <th>701127</th>\n",
       "      <td>702138</td>\n",
       "      <td>66. Pengeluaran Pembiayaan Lainnya</td>\n",
       "      <td>24.21</td>\n",
       "      <td>Non Kegiatan</td>\n",
       "      <td>Non Program</td>\n",
       "      <td>621. Pembentukan Dana Cadangan</td>\n",
       "      <td>62. Pengeluaran Pembiayaan Daerah</td>\n",
       "      <td>Kab. Sabu Raijua</td>\n",
       "      <td>6. Pembiayaan Daerah</td>\n",
       "      <td>2019</td>\n",
       "      <td>2.900000e+10</td>\n",
       "    </tr>\n",
       "    <tr>\n",
       "      <th>701128</th>\n",
       "      <td>702139</td>\n",
       "      <td>66. Pengeluaran Pembiayaan Lainnya</td>\n",
       "      <td>24.22</td>\n",
       "      <td>Non Kegiatan</td>\n",
       "      <td>Non Program</td>\n",
       "      <td>621. Pembentukan Dana Cadangan</td>\n",
       "      <td>62. Pengeluaran Pembiayaan Daerah</td>\n",
       "      <td>Kab. Malaka</td>\n",
       "      <td>6. Pembiayaan Daerah</td>\n",
       "      <td>2019</td>\n",
       "      <td>2.500000e+09</td>\n",
       "    </tr>\n",
       "    <tr>\n",
       "      <th>701129</th>\n",
       "      <td>702140</td>\n",
       "      <td>66. Pengeluaran Pembiayaan Lainnya</td>\n",
       "      <td>25.01</td>\n",
       "      <td>Non Kegiatan</td>\n",
       "      <td>Non Program</td>\n",
       "      <td>625. Pembayaran Kegiatan Lanjutan</td>\n",
       "      <td>62. Pengeluaran Pembiayaan Daerah</td>\n",
       "      <td>Kab. Kepulauan Tanimbar</td>\n",
       "      <td>6. Pembiayaan Daerah</td>\n",
       "      <td>2019</td>\n",
       "      <td>2.531600e+10</td>\n",
       "    </tr>\n",
       "    <tr>\n",
       "      <th>701130</th>\n",
       "      <td>702141</td>\n",
       "      <td>66. Pengeluaran Pembiayaan Lainnya</td>\n",
       "      <td>28.05</td>\n",
       "      <td>NaN</td>\n",
       "      <td>NaN</td>\n",
       "      <td>621. Pembentukan Dana Cadangan</td>\n",
       "      <td>62. Pengeluaran Pembiayaan Daerah</td>\n",
       "      <td>Kota Cilegon</td>\n",
       "      <td>6. Pembiayaan Daerah</td>\n",
       "      <td>2019</td>\n",
       "      <td>1.000000e+10</td>\n",
       "    </tr>\n",
       "    <tr>\n",
       "      <th>701131</th>\n",
       "      <td>702142</td>\n",
       "      <td>66. Pengeluaran Pembiayaan Lainnya</td>\n",
       "      <td>29.07</td>\n",
       "      <td>Non Kegiatan</td>\n",
       "      <td>Non Program</td>\n",
       "      <td>624. Pemberian Pinjaman Daerah</td>\n",
       "      <td>62. Pengeluaran Pembiayaan Daerah</td>\n",
       "      <td>Kab. Belitung Timur</td>\n",
       "      <td>6. Pembiayaan Daerah</td>\n",
       "      <td>2019</td>\n",
       "      <td>1.040000e+09</td>\n",
       "    </tr>\n",
       "  </tbody>\n",
       "</table>\n",
       "<p>701132 rows × 11 columns</p>\n",
       "</div>"
      ],
      "text/plain": [
       "            id                       Akun Analisis  Kodepemda  Namakegiatan  \\\n",
       "0            0                             41. PAD       1.00    Pendapatan   \n",
       "1            1                             41. PAD       1.00    Pendapatan   \n",
       "2            2                             41. PAD       1.00    Pendapatan   \n",
       "3            3                             41. PAD       1.00    Pendapatan   \n",
       "4            4                             41. PAD       1.01  Non Kegiatan   \n",
       "...        ...                                 ...        ...           ...   \n",
       "701127  702138  66. Pengeluaran Pembiayaan Lainnya      24.21  Non Kegiatan   \n",
       "701128  702139  66. Pengeluaran Pembiayaan Lainnya      24.22  Non Kegiatan   \n",
       "701129  702140  66. Pengeluaran Pembiayaan Lainnya      25.01  Non Kegiatan   \n",
       "701130  702141  66. Pengeluaran Pembiayaan Lainnya      28.05           NaN   \n",
       "701131  702142  66. Pengeluaran Pembiayaan Lainnya      29.07  Non Kegiatan   \n",
       "\n",
       "        Namaprogram                                       standarjenis  \\\n",
       "0       Non Program                                  411. Pajak Daerah   \n",
       "1       Non Program                              412. Retribusi Daerah   \n",
       "2       Non Program  413. Hasil Pengelolaan Kekayaan Daerah yang Di...   \n",
       "3       Non Program                        414. Lain-Lain PAD yang Sah   \n",
       "4       Non Program                                  411. Pajak Daerah   \n",
       "...             ...                                                ...   \n",
       "701127  Non Program                     621. Pembentukan Dana Cadangan   \n",
       "701128  Non Program                     621. Pembentukan Dana Cadangan   \n",
       "701129  Non Program                  625. Pembayaran Kegiatan Lanjutan   \n",
       "701130          NaN                     621. Pembentukan Dana Cadangan   \n",
       "701131  Non Program                     624. Pemberian Pinjaman Daerah   \n",
       "\n",
       "                          standarkelompok             standarpemda  \\\n",
       "0              41. Pendapatan Asli Daerah            Provinsi Aceh   \n",
       "1              41. Pendapatan Asli Daerah            Provinsi Aceh   \n",
       "2              41. Pendapatan Asli Daerah            Provinsi Aceh   \n",
       "3              41. Pendapatan Asli Daerah            Provinsi Aceh   \n",
       "4              41. Pendapatan Asli Daerah          Kab. Aceh Barat   \n",
       "...                                   ...                      ...   \n",
       "701127  62. Pengeluaran Pembiayaan Daerah         Kab. Sabu Raijua   \n",
       "701128  62. Pengeluaran Pembiayaan Daerah              Kab. Malaka   \n",
       "701129  62. Pengeluaran Pembiayaan Daerah  Kab. Kepulauan Tanimbar   \n",
       "701130  62. Pengeluaran Pembiayaan Daerah             Kota Cilegon   \n",
       "701131  62. Pengeluaran Pembiayaan Daerah      Kab. Belitung Timur   \n",
       "\n",
       "                standarutama  Tahunanggaran  Nilaianggaran  \n",
       "0       4. Pendapatan Daerah           2019   1.509791e+12  \n",
       "1       4. Pendapatan Daerah           2019   2.886440e+10  \n",
       "2       4. Pendapatan Daerah           2019   1.969350e+11  \n",
       "3       4. Pendapatan Daerah           2019   7.460386e+11  \n",
       "4       4. Pendapatan Daerah           2019   1.630089e+10  \n",
       "...                      ...            ...            ...  \n",
       "701127  6. Pembiayaan Daerah           2019   2.900000e+10  \n",
       "701128  6. Pembiayaan Daerah           2019   2.500000e+09  \n",
       "701129  6. Pembiayaan Daerah           2019   2.531600e+10  \n",
       "701130  6. Pembiayaan Daerah           2019   1.000000e+10  \n",
       "701131  6. Pembiayaan Daerah           2019   1.040000e+09  \n",
       "\n",
       "[701132 rows x 11 columns]"
      ]
     },
     "execution_count": 152,
     "metadata": {},
     "output_type": "execute_result"
    }
   ],
   "source": [
    "dfff"
   ]
  },
  {
   "cell_type": "code",
   "execution_count": 153,
   "id": "606d5236-16d1-4cf7-b249-f69892672039",
   "metadata": {},
   "outputs": [
    {
     "data": {
      "text/html": [
       "<div>\n",
       "<style scoped>\n",
       "    .dataframe tbody tr th:only-of-type {\n",
       "        vertical-align: middle;\n",
       "    }\n",
       "\n",
       "    .dataframe tbody tr th {\n",
       "        vertical-align: top;\n",
       "    }\n",
       "\n",
       "    .dataframe thead th {\n",
       "        text-align: right;\n",
       "    }\n",
       "</style>\n",
       "<table border=\"1\" class=\"dataframe\">\n",
       "  <thead>\n",
       "    <tr style=\"text-align: right;\">\n",
       "      <th></th>\n",
       "      <th>Kode Provinsi</th>\n",
       "      <th>Provinsi</th>\n",
       "      <th>Label</th>\n",
       "      <th>Nilai Anggaran</th>\n",
       "      <th>Jenis Anggaran</th>\n",
       "      <th>Tahun</th>\n",
       "    </tr>\n",
       "  </thead>\n",
       "  <tbody>\n",
       "    <tr>\n",
       "      <th>0</th>\n",
       "      <td>1</td>\n",
       "      <td>Aceh</td>\n",
       "      <td>Kesehatan</td>\n",
       "      <td>6.208389e+12</td>\n",
       "      <td>APBD</td>\n",
       "      <td>2019</td>\n",
       "    </tr>\n",
       "    <tr>\n",
       "      <th>1</th>\n",
       "      <td>1</td>\n",
       "      <td>Aceh</td>\n",
       "      <td>Lainnya</td>\n",
       "      <td>7.994426e+13</td>\n",
       "      <td>APBD</td>\n",
       "      <td>2019</td>\n",
       "    </tr>\n",
       "    <tr>\n",
       "      <th>2</th>\n",
       "      <td>1</td>\n",
       "      <td>Aceh</td>\n",
       "      <td>Pariwisata</td>\n",
       "      <td>2.626603e+12</td>\n",
       "      <td>APBD</td>\n",
       "      <td>2019</td>\n",
       "    </tr>\n",
       "    <tr>\n",
       "      <th>3</th>\n",
       "      <td>1</td>\n",
       "      <td>Aceh</td>\n",
       "      <td>Pendidikan</td>\n",
       "      <td>1.125053e+12</td>\n",
       "      <td>APBD</td>\n",
       "      <td>2019</td>\n",
       "    </tr>\n",
       "    <tr>\n",
       "      <th>4</th>\n",
       "      <td>1</td>\n",
       "      <td>Aceh</td>\n",
       "      <td>Pertanian</td>\n",
       "      <td>2.897629e+12</td>\n",
       "      <td>APBD</td>\n",
       "      <td>2019</td>\n",
       "    </tr>\n",
       "    <tr>\n",
       "      <th>...</th>\n",
       "      <td>...</td>\n",
       "      <td>...</td>\n",
       "      <td>...</td>\n",
       "      <td>...</td>\n",
       "      <td>...</td>\n",
       "      <td>...</td>\n",
       "    </tr>\n",
       "    <tr>\n",
       "      <th>1015</th>\n",
       "      <td>34</td>\n",
       "      <td>Kalimantan Utara</td>\n",
       "      <td>Lainnya</td>\n",
       "      <td>1.597982e+13</td>\n",
       "      <td>Realisasi</td>\n",
       "      <td>2020</td>\n",
       "    </tr>\n",
       "    <tr>\n",
       "      <th>1016</th>\n",
       "      <td>34</td>\n",
       "      <td>Kalimantan Utara</td>\n",
       "      <td>Pariwisata</td>\n",
       "      <td>1.105984e+11</td>\n",
       "      <td>Realisasi</td>\n",
       "      <td>2020</td>\n",
       "    </tr>\n",
       "    <tr>\n",
       "      <th>1017</th>\n",
       "      <td>34</td>\n",
       "      <td>Kalimantan Utara</td>\n",
       "      <td>Pendidikan</td>\n",
       "      <td>5.735054e+11</td>\n",
       "      <td>Realisasi</td>\n",
       "      <td>2020</td>\n",
       "    </tr>\n",
       "    <tr>\n",
       "      <th>1018</th>\n",
       "      <td>34</td>\n",
       "      <td>Kalimantan Utara</td>\n",
       "      <td>Pertanian</td>\n",
       "      <td>3.952699e+11</td>\n",
       "      <td>Realisasi</td>\n",
       "      <td>2020</td>\n",
       "    </tr>\n",
       "    <tr>\n",
       "      <th>1019</th>\n",
       "      <td>34</td>\n",
       "      <td>Kalimantan Utara</td>\n",
       "      <td>UMKM</td>\n",
       "      <td>5.169859e+09</td>\n",
       "      <td>Realisasi</td>\n",
       "      <td>2020</td>\n",
       "    </tr>\n",
       "  </tbody>\n",
       "</table>\n",
       "<p>1020 rows × 6 columns</p>\n",
       "</div>"
      ],
      "text/plain": [
       "      Kode Provinsi          Provinsi       Label  Nilai Anggaran  \\\n",
       "0                 1              Aceh   Kesehatan    6.208389e+12   \n",
       "1                 1              Aceh     Lainnya    7.994426e+13   \n",
       "2                 1              Aceh  Pariwisata    2.626603e+12   \n",
       "3                 1              Aceh  Pendidikan    1.125053e+12   \n",
       "4                 1              Aceh   Pertanian    2.897629e+12   \n",
       "...             ...               ...         ...             ...   \n",
       "1015             34  Kalimantan Utara     Lainnya    1.597982e+13   \n",
       "1016             34  Kalimantan Utara  Pariwisata    1.105984e+11   \n",
       "1017             34  Kalimantan Utara  Pendidikan    5.735054e+11   \n",
       "1018             34  Kalimantan Utara   Pertanian    3.952699e+11   \n",
       "1019             34  Kalimantan Utara        UMKM    5.169859e+09   \n",
       "\n",
       "     Jenis Anggaran  Tahun   \n",
       "0              APBD    2019  \n",
       "1              APBD    2019  \n",
       "2              APBD    2019  \n",
       "3              APBD    2019  \n",
       "4              APBD    2019  \n",
       "...             ...     ...  \n",
       "1015      Realisasi    2020  \n",
       "1016      Realisasi    2020  \n",
       "1017      Realisasi    2020  \n",
       "1018      Realisasi    2020  \n",
       "1019      Realisasi    2020  \n",
       "\n",
       "[1020 rows x 6 columns]"
      ]
     },
     "execution_count": 153,
     "metadata": {},
     "output_type": "execute_result"
    }
   ],
   "source": [
    "dff"
   ]
  },
  {
   "cell_type": "code",
   "execution_count": 154,
   "id": "37b4ef6d-5443-4172-9201-dee34183ee90",
   "metadata": {},
   "outputs": [],
   "source": [
    "dff = pd.read_excel('APBD_Realisasi_Prov.xlsx')"
   ]
  },
  {
   "cell_type": "code",
   "execution_count": 157,
   "id": "cd55195d-27d9-4db2-abcc-c1a89e17b11c",
   "metadata": {},
   "outputs": [
    {
     "data": {
      "text/html": [
       "<div>\n",
       "<style scoped>\n",
       "    .dataframe tbody tr th:only-of-type {\n",
       "        vertical-align: middle;\n",
       "    }\n",
       "\n",
       "    .dataframe tbody tr th {\n",
       "        vertical-align: top;\n",
       "    }\n",
       "\n",
       "    .dataframe thead th {\n",
       "        text-align: right;\n",
       "    }\n",
       "</style>\n",
       "<table border=\"1\" class=\"dataframe\">\n",
       "  <thead>\n",
       "    <tr style=\"text-align: right;\">\n",
       "      <th></th>\n",
       "      <th></th>\n",
       "      <th></th>\n",
       "      <th>Kode Provinsi</th>\n",
       "      <th>Nilai Anggaran</th>\n",
       "    </tr>\n",
       "    <tr>\n",
       "      <th>Tahun</th>\n",
       "      <th>Jenis Anggaran</th>\n",
       "      <th>Label</th>\n",
       "      <th></th>\n",
       "      <th></th>\n",
       "    </tr>\n",
       "  </thead>\n",
       "  <tbody>\n",
       "    <tr>\n",
       "      <th rowspan=\"12\" valign=\"top\">2019</th>\n",
       "      <th rowspan=\"6\" valign=\"top\">APBD</th>\n",
       "      <th>Kesehatan</th>\n",
       "      <td>17.5</td>\n",
       "      <td>4.781535e+12</td>\n",
       "    </tr>\n",
       "    <tr>\n",
       "      <th>Lainnya</th>\n",
       "      <td>17.5</td>\n",
       "      <td>5.743465e+13</td>\n",
       "    </tr>\n",
       "    <tr>\n",
       "      <th>Pariwisata</th>\n",
       "      <td>17.5</td>\n",
       "      <td>1.022809e+12</td>\n",
       "    </tr>\n",
       "    <tr>\n",
       "      <th>Pendidikan</th>\n",
       "      <td>17.5</td>\n",
       "      <td>1.683665e+12</td>\n",
       "    </tr>\n",
       "    <tr>\n",
       "      <th>Pertanian</th>\n",
       "      <td>17.5</td>\n",
       "      <td>3.293921e+12</td>\n",
       "    </tr>\n",
       "    <tr>\n",
       "      <th>UMKM</th>\n",
       "      <td>17.5</td>\n",
       "      <td>2.264406e+11</td>\n",
       "    </tr>\n",
       "    <tr>\n",
       "      <th rowspan=\"6\" valign=\"top\">Realisasi</th>\n",
       "      <th>Kesehatan</th>\n",
       "      <td>17.5</td>\n",
       "      <td>2.130198e+12</td>\n",
       "    </tr>\n",
       "    <tr>\n",
       "      <th>Lainnya</th>\n",
       "      <td>17.5</td>\n",
       "      <td>5.823087e+13</td>\n",
       "    </tr>\n",
       "    <tr>\n",
       "      <th>Pariwisata</th>\n",
       "      <td>17.5</td>\n",
       "      <td>3.615678e+11</td>\n",
       "    </tr>\n",
       "    <tr>\n",
       "      <th>Pendidikan</th>\n",
       "      <td>17.5</td>\n",
       "      <td>2.984775e+12</td>\n",
       "    </tr>\n",
       "    <tr>\n",
       "      <th>Pertanian</th>\n",
       "      <td>17.5</td>\n",
       "      <td>3.014643e+12</td>\n",
       "    </tr>\n",
       "    <tr>\n",
       "      <th>UMKM</th>\n",
       "      <td>17.5</td>\n",
       "      <td>6.346886e+11</td>\n",
       "    </tr>\n",
       "    <tr>\n",
       "      <th rowspan=\"12\" valign=\"top\">2020</th>\n",
       "      <th rowspan=\"6\" valign=\"top\">APBD</th>\n",
       "      <th>Kesehatan</th>\n",
       "      <td>17.5</td>\n",
       "      <td>2.974937e+12</td>\n",
       "    </tr>\n",
       "    <tr>\n",
       "      <th>Lainnya</th>\n",
       "      <td>17.5</td>\n",
       "      <td>5.594211e+13</td>\n",
       "    </tr>\n",
       "    <tr>\n",
       "      <th>Pariwisata</th>\n",
       "      <td>17.5</td>\n",
       "      <td>2.051837e+12</td>\n",
       "    </tr>\n",
       "    <tr>\n",
       "      <th>Pendidikan</th>\n",
       "      <td>17.5</td>\n",
       "      <td>2.888070e+12</td>\n",
       "    </tr>\n",
       "    <tr>\n",
       "      <th>Pertanian</th>\n",
       "      <td>17.5</td>\n",
       "      <td>3.041999e+12</td>\n",
       "    </tr>\n",
       "    <tr>\n",
       "      <th>UMKM</th>\n",
       "      <td>17.5</td>\n",
       "      <td>9.513123e+11</td>\n",
       "    </tr>\n",
       "    <tr>\n",
       "      <th rowspan=\"6\" valign=\"top\">Realisasi</th>\n",
       "      <th>Kesehatan</th>\n",
       "      <td>17.5</td>\n",
       "      <td>2.840542e+12</td>\n",
       "    </tr>\n",
       "    <tr>\n",
       "      <th>Lainnya</th>\n",
       "      <td>17.5</td>\n",
       "      <td>5.440145e+13</td>\n",
       "    </tr>\n",
       "    <tr>\n",
       "      <th>Pariwisata</th>\n",
       "      <td>17.5</td>\n",
       "      <td>3.806694e+11</td>\n",
       "    </tr>\n",
       "    <tr>\n",
       "      <th>Pendidikan</th>\n",
       "      <td>17.5</td>\n",
       "      <td>2.308995e+12</td>\n",
       "    </tr>\n",
       "    <tr>\n",
       "      <th>Pertanian</th>\n",
       "      <td>17.5</td>\n",
       "      <td>2.200768e+12</td>\n",
       "    </tr>\n",
       "    <tr>\n",
       "      <th>UMKM</th>\n",
       "      <td>17.5</td>\n",
       "      <td>2.294681e+10</td>\n",
       "    </tr>\n",
       "    <tr>\n",
       "      <th rowspan=\"6\" valign=\"top\">2021</th>\n",
       "      <th rowspan=\"6\" valign=\"top\">APBD</th>\n",
       "      <th>Kesehatan</th>\n",
       "      <td>17.5</td>\n",
       "      <td>2.207755e+12</td>\n",
       "    </tr>\n",
       "    <tr>\n",
       "      <th>Lainnya</th>\n",
       "      <td>17.5</td>\n",
       "      <td>5.681055e+13</td>\n",
       "    </tr>\n",
       "    <tr>\n",
       "      <th>Pariwisata</th>\n",
       "      <td>17.5</td>\n",
       "      <td>7.282840e+11</td>\n",
       "    </tr>\n",
       "    <tr>\n",
       "      <th>Pendidikan</th>\n",
       "      <td>17.5</td>\n",
       "      <td>4.974549e+12</td>\n",
       "    </tr>\n",
       "    <tr>\n",
       "      <th>Pertanian</th>\n",
       "      <td>17.5</td>\n",
       "      <td>2.062419e+12</td>\n",
       "    </tr>\n",
       "    <tr>\n",
       "      <th>UMKM</th>\n",
       "      <td>17.5</td>\n",
       "      <td>2.434693e+12</td>\n",
       "    </tr>\n",
       "  </tbody>\n",
       "</table>\n",
       "</div>"
      ],
      "text/plain": [
       "                                  Kode Provinsi  Nilai Anggaran\n",
       "Tahun  Jenis Anggaran Label                                    \n",
       "2019   APBD           Kesehatan            17.5    4.781535e+12\n",
       "                      Lainnya              17.5    5.743465e+13\n",
       "                      Pariwisata           17.5    1.022809e+12\n",
       "                      Pendidikan           17.5    1.683665e+12\n",
       "                      Pertanian            17.5    3.293921e+12\n",
       "                      UMKM                 17.5    2.264406e+11\n",
       "       Realisasi      Kesehatan            17.5    2.130198e+12\n",
       "                      Lainnya              17.5    5.823087e+13\n",
       "                      Pariwisata           17.5    3.615678e+11\n",
       "                      Pendidikan           17.5    2.984775e+12\n",
       "                      Pertanian            17.5    3.014643e+12\n",
       "                      UMKM                 17.5    6.346886e+11\n",
       "2020   APBD           Kesehatan            17.5    2.974937e+12\n",
       "                      Lainnya              17.5    5.594211e+13\n",
       "                      Pariwisata           17.5    2.051837e+12\n",
       "                      Pendidikan           17.5    2.888070e+12\n",
       "                      Pertanian            17.5    3.041999e+12\n",
       "                      UMKM                 17.5    9.513123e+11\n",
       "       Realisasi      Kesehatan            17.5    2.840542e+12\n",
       "                      Lainnya              17.5    5.440145e+13\n",
       "                      Pariwisata           17.5    3.806694e+11\n",
       "                      Pendidikan           17.5    2.308995e+12\n",
       "                      Pertanian            17.5    2.200768e+12\n",
       "                      UMKM                 17.5    2.294681e+10\n",
       "2021   APBD           Kesehatan            17.5    2.207755e+12\n",
       "                      Lainnya              17.5    5.681055e+13\n",
       "                      Pariwisata           17.5    7.282840e+11\n",
       "                      Pendidikan           17.5    4.974549e+12\n",
       "                      Pertanian            17.5    2.062419e+12\n",
       "                      UMKM                 17.5    2.434693e+12"
      ]
     },
     "execution_count": 157,
     "metadata": {},
     "output_type": "execute_result"
    }
   ],
   "source": [
    "dff.groupby(by = ['Tahun ', 'Jenis Anggaran', 'Label']).mean()"
   ]
  },
  {
   "cell_type": "code",
   "execution_count": 159,
   "id": "560c8788-ef23-4cd2-bce9-6bbc593ac6cb",
   "metadata": {},
   "outputs": [
    {
     "data": {
      "text/plain": [
       "139335000.0"
      ]
     },
     "execution_count": 159,
     "metadata": {},
     "output_type": "execute_result"
    }
   ],
   "source": [
    "dff.loc[(dff['Provinsi'] == 'DKI Jakarta') & (dff['Tahun '] == 2020) & (dff['Label'] == 'UMKM') & (dff['Jenis Anggaran'] == 'Realisasi')]['Nilai Anggaran'].sum()"
   ]
  },
  {
   "cell_type": "code",
   "execution_count": null,
   "id": "f13fa20c-4c5a-41fa-9421-76922ea6ceeb",
   "metadata": {},
   "outputs": [],
   "source": []
  }
 ],
 "metadata": {
  "kernelspec": {
   "display_name": "Python 3 (ipykernel)",
   "language": "python",
   "name": "python3"
  },
  "language_info": {
   "codemirror_mode": {
    "name": "ipython",
    "version": 3
   },
   "file_extension": ".py",
   "mimetype": "text/x-python",
   "name": "python",
   "nbconvert_exporter": "python",
   "pygments_lexer": "ipython3",
   "version": "3.9.7"
  }
 },
 "nbformat": 4,
 "nbformat_minor": 5
}
